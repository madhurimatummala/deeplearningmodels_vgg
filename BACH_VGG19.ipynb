{
 "cells": [
  {
   "cell_type": "code",
   "execution_count": null,
   "id": "straight-desert",
   "metadata": {
    "_cell_guid": "b1076dfc-b9ad-4769-8c92-a6c4dae69d19",
    "_uuid": "8f2839f25d086af736a60e9eeb907d3b93b6e0e5",
    "execution": {
     "iopub.execute_input": "2021-07-24T17:12:31.916673Z",
     "iopub.status.busy": "2021-07-24T17:12:31.914547Z",
     "iopub.status.idle": "2021-07-24T17:12:31.928237Z",
     "shell.execute_reply": "2021-07-24T17:12:31.928786Z",
     "shell.execute_reply.started": "2021-07-07T08:35:07.431843Z"
    },
    "id": "straight-desert",
    "papermill": {
     "duration": 0.056042,
     "end_time": "2021-07-24T17:12:31.929138",
     "exception": false,
     "start_time": "2021-07-24T17:12:31.873096",
     "status": "completed"
    },
    "tags": []
   },
   "outputs": [],
   "source": [
    "import pandas as pd\n",
    "import numpy as np\n",
    "import os\n",
    "from glob import glob\n",
    "import random\n",
    "import matplotlib.pylab as plt"
   ]
  },
  {
   "cell_type": "code",
   "execution_count": null,
   "id": "cooperative-institute",
   "metadata": {
    "execution": {
     "iopub.execute_input": "2021-07-24T17:12:32.013171Z",
     "iopub.status.busy": "2021-07-24T17:12:32.012058Z",
     "iopub.status.idle": "2021-07-24T17:12:32.055038Z",
     "shell.execute_reply": "2021-07-24T17:12:32.056288Z",
     "shell.execute_reply.started": "2021-07-07T08:35:07.441213Z"
    },
    "id": "cooperative-institute",
    "outputId": "734ff8a5-3051-4956-fe84-4e491ddb2c77",
    "papermill": {
     "duration": 0.093274,
     "end_time": "2021-07-24T17:12:32.057073",
     "exception": false,
     "start_time": "2021-07-24T17:12:31.963799",
     "status": "completed"
    },
    "tags": []
   },
   "outputs": [
    {
     "name": "stdout",
     "output_type": "stream",
     "text": [
      "['../input/breast-histopathology-images/IDC_regular_ps50_idx5/10295', '../input/breast-histopathology-images/IDC_regular_ps50_idx5/10304', '../input/breast-histopathology-images/IDC_regular_ps50_idx5/12868', '../input/breast-histopathology-images/IDC_regular_ps50_idx5/10274', '../input/breast-histopathology-images/IDC_regular_ps50_idx5/12818']\n"
     ]
    }
   ],
   "source": [
    "mypaths=[]\n",
    "for name in glob('/breast-histopathology-images/IDC_regular_ps50_idx5/*',recursive=True):\n",
    "    mypaths.append(name)\n",
    "print(mypaths[:5])"
   ]
  },
  {
   "cell_type": "code",
   "execution_count": null,
   "id": "legendary-independence",
   "metadata": {
    "execution": {
     "iopub.execute_input": "2021-07-24T17:12:32.156900Z",
     "iopub.status.busy": "2021-07-24T17:12:32.155727Z",
     "iopub.status.idle": "2021-07-24T17:12:32.160163Z",
     "shell.execute_reply": "2021-07-24T17:12:32.160669Z",
     "shell.execute_reply.started": "2021-07-07T08:35:07.458139Z"
    },
    "id": "legendary-independence",
    "outputId": "e5ab378f-9d2c-4356-956d-226cf3072edf",
    "papermill": {
     "duration": 0.047267,
     "end_time": "2021-07-24T17:12:32.160827",
     "exception": false,
     "start_time": "2021-07-24T17:12:32.113560",
     "status": "completed"
    },
    "tags": []
   },
   "outputs": [
    {
     "data": {
      "text/plain": [
       "279"
      ]
     },
     "execution_count": 3,
     "metadata": {},
     "output_type": "execute_result"
    }
   ],
   "source": [
    "len(mypaths)"
   ]
  },
  {
   "cell_type": "code",
   "execution_count": null,
   "id": "concerned-detector",
   "metadata": {
    "execution": {
     "iopub.execute_input": "2021-07-24T17:12:32.240522Z",
     "iopub.status.busy": "2021-07-24T17:12:32.239440Z",
     "iopub.status.idle": "2021-07-24T17:12:32.243888Z",
     "shell.execute_reply": "2021-07-24T17:12:32.244440Z",
     "shell.execute_reply.started": "2021-07-07T08:35:07.466606Z"
    },
    "id": "concerned-detector",
    "outputId": "ef0d0dc8-4e6c-45f5-d533-59b36a002294",
    "papermill": {
     "duration": 0.048736,
     "end_time": "2021-07-24T17:12:32.244595",
     "exception": false,
     "start_time": "2021-07-24T17:12:32.195859",
     "status": "completed"
    },
    "tags": []
   },
   "outputs": [
    {
     "data": {
      "text/plain": [
       "['../input/breast-histopathology-images/IDC_regular_ps50_idx5/10295',\n",
       " '../input/breast-histopathology-images/IDC_regular_ps50_idx5/10304',\n",
       " '../input/breast-histopathology-images/IDC_regular_ps50_idx5/12868',\n",
       " '../input/breast-histopathology-images/IDC_regular_ps50_idx5/10274',\n",
       " '../input/breast-histopathology-images/IDC_regular_ps50_idx5/12818']"
      ]
     },
     "execution_count": 4,
     "metadata": {},
     "output_type": "execute_result"
    }
   ],
   "source": [
    "mypaths[:5]"
   ]
  },
  {
   "cell_type": "code",
   "execution_count": null,
   "id": "imposed-wholesale",
   "metadata": {
    "execution": {
     "iopub.execute_input": "2021-07-24T17:12:32.323311Z",
     "iopub.status.busy": "2021-07-24T17:12:32.322558Z",
     "iopub.status.idle": "2021-07-24T17:12:35.075486Z",
     "shell.execute_reply": "2021-07-24T17:12:35.076095Z",
     "shell.execute_reply.started": "2021-07-07T08:35:07.477089Z"
    },
    "id": "imposed-wholesale",
    "papermill": {
     "duration": 2.795159,
     "end_time": "2021-07-24T17:12:35.076284",
     "exception": false,
     "start_time": "2021-07-24T17:12:32.281125",
     "status": "completed"
    },
    "tags": []
   },
   "outputs": [],
   "source": [
    "mp=mypaths[60:75]\n",
    "imagePatches=[]\n",
    "for i in mp:\n",
    "    imagePatches+=glob(i+'/*/*.png', recursive=True)\n"
   ]
  },
  {
   "cell_type": "code",
   "execution_count": null,
   "id": "dominican-talent",
   "metadata": {
    "execution": {
     "iopub.execute_input": "2021-07-24T17:12:35.155522Z",
     "iopub.status.busy": "2021-07-24T17:12:35.154458Z",
     "iopub.status.idle": "2021-07-24T17:12:35.159252Z",
     "shell.execute_reply": "2021-07-24T17:12:35.158690Z",
     "shell.execute_reply.started": "2021-07-07T08:35:07.502433Z"
    },
    "id": "dominican-talent",
    "outputId": "580d4a36-f43c-4914-be0c-b0da6ed93d00",
    "papermill": {
     "duration": 0.046115,
     "end_time": "2021-07-24T17:12:35.159398",
     "exception": false,
     "start_time": "2021-07-24T17:12:35.113283",
     "status": "completed"
    },
    "tags": []
   },
   "outputs": [
    {
     "data": {
      "text/plain": [
       "14998"
      ]
     },
     "execution_count": 6,
     "metadata": {},
     "output_type": "execute_result"
    }
   ],
   "source": [
    "len(imagePatches)"
   ]
  },
  {
   "cell_type": "code",
   "execution_count": null,
   "id": "regulation-leeds",
   "metadata": {
    "execution": {
     "iopub.execute_input": "2021-07-24T17:12:35.243009Z",
     "iopub.status.busy": "2021-07-24T17:12:35.241813Z",
     "iopub.status.idle": "2021-07-24T17:12:35.245308Z",
     "shell.execute_reply": "2021-07-24T17:12:35.244704Z",
     "shell.execute_reply.started": "2021-07-07T08:35:07.515774Z"
    },
    "id": "regulation-leeds",
    "papermill": {
     "duration": 0.050225,
     "end_time": "2021-07-24T17:12:35.245471",
     "exception": false,
     "start_time": "2021-07-24T17:12:35.195246",
     "status": "completed"
    },
    "tags": []
   },
   "outputs": [],
   "source": [
    "# Two arrays holding images by class type\n",
    "\n",
    "class0 = [] # 0 = no cancer\n",
    "class1 = [] # 1 = cancer\n",
    "\n",
    "for filename in imagePatches:\n",
    "    if filename.endswith(\"class0.png\"):\n",
    "         class0.append(filename)\n",
    "    else:\n",
    "        class1.append(filename)"
   ]
  },
  {
   "cell_type": "code",
   "execution_count": null,
   "id": "civilian-weather",
   "metadata": {
    "execution": {
     "iopub.execute_input": "2021-07-24T17:12:35.323630Z",
     "iopub.status.busy": "2021-07-24T17:12:35.322477Z",
     "iopub.status.idle": "2021-07-24T17:12:35.329631Z",
     "shell.execute_reply": "2021-07-24T17:12:35.330470Z",
     "shell.execute_reply.started": "2021-07-07T08:35:07.52563Z"
    },
    "id": "civilian-weather",
    "outputId": "c89d7d95-2423-49b6-8790-aebe047ee364",
    "papermill": {
     "duration": 0.049436,
     "end_time": "2021-07-24T17:12:35.330630",
     "exception": false,
     "start_time": "2021-07-24T17:12:35.281194",
     "status": "completed"
    },
    "tags": []
   },
   "outputs": [
    {
     "name": "stdout",
     "output_type": "stream",
     "text": [
      "10314\n",
      "hi\n"
     ]
    },
    {
     "data": {
      "text/plain": [
       "4684"
      ]
     },
     "execution_count": 8,
     "metadata": {},
     "output_type": "execute_result"
    }
   ],
   "source": [
    "print(len(class0))\n",
    "print(\"hi\")\n",
    "len(class1)"
   ]
  },
  {
   "cell_type": "code",
   "execution_count": null,
   "id": "greater-scanner",
   "metadata": {
    "execution": {
     "iopub.execute_input": "2021-07-24T17:12:35.423675Z",
     "iopub.status.busy": "2021-07-24T17:12:35.422563Z",
     "iopub.status.idle": "2021-07-24T17:12:35.427341Z",
     "shell.execute_reply": "2021-07-24T17:12:35.426819Z",
     "shell.execute_reply.started": "2021-07-07T08:35:07.539257Z"
    },
    "id": "greater-scanner",
    "outputId": "1bb5426d-9aba-4bbf-ec91-63889436976b",
    "papermill": {
     "duration": 0.059196,
     "end_time": "2021-07-24T17:12:35.427473",
     "exception": false,
     "start_time": "2021-07-24T17:12:35.368277",
     "status": "completed"
    },
    "tags": []
   },
   "outputs": [
    {
     "data": {
      "text/plain": [
       "4684"
      ]
     },
     "execution_count": 9,
     "metadata": {},
     "output_type": "execute_result"
    }
   ],
   "source": [
    "sampled_class0 = random.sample(class0, len(class1))\n",
    "sampled_class1 = random.sample(class1, len(class1))\n",
    "len(sampled_class1)"
   ]
  },
  {
   "cell_type": "code",
   "execution_count": null,
   "id": "congressional-shelf",
   "metadata": {
    "execution": {
     "iopub.execute_input": "2021-07-24T17:12:35.507586Z",
     "iopub.status.busy": "2021-07-24T17:12:35.506765Z",
     "iopub.status.idle": "2021-07-24T17:12:35.510599Z",
     "shell.execute_reply": "2021-07-24T17:12:35.511187Z",
     "shell.execute_reply.started": "2021-07-07T08:35:07.552658Z"
    },
    "id": "congressional-shelf",
    "outputId": "9fc8736f-8958-4c98-a193-b74cfcfceb0a",
    "papermill": {
     "duration": 0.046563,
     "end_time": "2021-07-24T17:12:35.511362",
     "exception": false,
     "start_time": "2021-07-24T17:12:35.464799",
     "status": "completed"
    },
    "tags": []
   },
   "outputs": [
    {
     "name": "stdout",
     "output_type": "stream",
     "text": [
      "4684\n"
     ]
    }
   ],
   "source": [
    "print(len(sampled_class0))"
   ]
  },
  {
   "cell_type": "code",
   "execution_count": null,
   "id": "oriental-claim",
   "metadata": {
    "execution": {
     "iopub.execute_input": "2021-07-24T17:12:35.595942Z",
     "iopub.status.busy": "2021-07-24T17:12:35.595185Z",
     "iopub.status.idle": "2021-07-24T17:12:35.830466Z",
     "shell.execute_reply": "2021-07-24T17:12:35.829751Z",
     "shell.execute_reply.started": "2021-07-07T08:35:07.61576Z"
    },
    "id": "oriental-claim",
    "papermill": {
     "duration": 0.281522,
     "end_time": "2021-07-24T17:12:35.830611",
     "exception": false,
     "start_time": "2021-07-24T17:12:35.549089",
     "status": "completed"
    },
    "tags": []
   },
   "outputs": [],
   "source": [
    "from matplotlib.image import imread\n",
    "import cv2\n",
    "\n",
    "def get_image_arrays(data, label):\n",
    "    img_arrays = []\n",
    "    for i in data:\n",
    "      if i.endswith('.png'):\n",
    "        img = cv2.imread(i ,cv2.IMREAD_COLOR)\n",
    "        img_sized = cv2.resize(img, (224, 224), interpolation=cv2.INTER_LINEAR)\n",
    "        img_arrays.append([img_sized, label])\n",
    "    return img_arrays"
   ]
  },
  {
   "cell_type": "code",
   "execution_count": null,
   "id": "raising-military",
   "metadata": {
    "execution": {
     "iopub.execute_input": "2021-07-24T17:12:35.912199Z",
     "iopub.status.busy": "2021-07-24T17:12:35.911492Z",
     "iopub.status.idle": "2021-07-24T17:13:43.554566Z",
     "shell.execute_reply": "2021-07-24T17:13:43.555530Z",
     "shell.execute_reply.started": "2021-07-07T08:35:07.625254Z"
    },
    "id": "raising-military",
    "outputId": "4e257c7f-6aa2-4772-fd09-836e51f184f6",
    "papermill": {
     "duration": 67.686827,
     "end_time": "2021-07-24T17:13:43.555843",
     "exception": false,
     "start_time": "2021-07-24T17:12:35.869016",
     "status": "completed"
    },
    "tags": []
   },
   "outputs": [
    {
     "name": "stdout",
     "output_type": "stream",
     "text": [
      "done\n"
     ]
    }
   ],
   "source": [
    "class0_array = get_image_arrays(sampled_class0, 0)\n",
    "class1_array = get_image_arrays(sampled_class1, 1)\n",
    "print('done')"
   ]
  },
  {
   "cell_type": "code",
   "execution_count": null,
   "id": "silver-shield",
   "metadata": {
    "execution": {
     "iopub.execute_input": "2021-07-24T17:13:43.644852Z",
     "iopub.status.busy": "2021-07-24T17:13:43.643814Z",
     "iopub.status.idle": "2021-07-24T17:13:43.649825Z",
     "shell.execute_reply": "2021-07-24T17:13:43.649247Z",
     "shell.execute_reply.started": "2021-07-07T08:35:09.925448Z"
    },
    "id": "silver-shield",
    "outputId": "dec72123-a1a3-465f-c639-fbe9b6b8678c",
    "papermill": {
     "duration": 0.052382,
     "end_time": "2021-07-24T17:13:43.649980",
     "exception": false,
     "start_time": "2021-07-24T17:13:43.597598",
     "status": "completed"
    },
    "tags": []
   },
   "outputs": [
    {
     "data": {
      "text/plain": [
       "[array([[[214, 197, 223],\n",
       "         [214, 197, 223],\n",
       "         [214, 198, 224],\n",
       "         ...,\n",
       "         [205, 190, 237],\n",
       "         [205, 191, 237],\n",
       "         [205, 191, 237]],\n",
       " \n",
       "        [[214, 197, 223],\n",
       "         [214, 197, 223],\n",
       "         [214, 198, 223],\n",
       "         ...,\n",
       "         [205, 190, 237],\n",
       "         [205, 191, 237],\n",
       "         [205, 191, 237]],\n",
       " \n",
       "        [[214, 197, 223],\n",
       "         [214, 197, 223],\n",
       "         [214, 198, 224],\n",
       "         ...,\n",
       "         [205, 190, 237],\n",
       "         [205, 191, 237],\n",
       "         [205, 191, 237]],\n",
       " \n",
       "        ...,\n",
       " \n",
       "        [[193, 169, 221],\n",
       "         [193, 169, 221],\n",
       "         [192, 168, 219],\n",
       "         ...,\n",
       "         [201, 183, 201],\n",
       "         [201, 183, 200],\n",
       "         [201, 183, 200]],\n",
       " \n",
       "        [[192, 168, 221],\n",
       "         [192, 168, 221],\n",
       "         [191, 166, 219],\n",
       "         ...,\n",
       "         [201, 184, 201],\n",
       "         [201, 184, 200],\n",
       "         [201, 184, 200]],\n",
       " \n",
       "        [[192, 168, 221],\n",
       "         [192, 168, 221],\n",
       "         [191, 166, 219],\n",
       "         ...,\n",
       "         [201, 184, 201],\n",
       "         [201, 184, 200],\n",
       "         [201, 184, 200]]], dtype=uint8),\n",
       " 0]"
      ]
     },
     "execution_count": 13,
     "metadata": {},
     "output_type": "execute_result"
    }
   ],
   "source": [
    "class0_array[0]"
   ]
  },
  {
   "cell_type": "code",
   "execution_count": null,
   "id": "piano-hybrid",
   "metadata": {
    "execution": {
     "iopub.execute_input": "2021-07-24T17:13:43.744151Z",
     "iopub.status.busy": "2021-07-24T17:13:43.743388Z",
     "iopub.status.idle": "2021-07-24T17:13:43.752955Z",
     "shell.execute_reply": "2021-07-24T17:13:43.753458Z",
     "shell.execute_reply.started": "2021-07-07T08:35:09.935268Z"
    },
    "id": "piano-hybrid",
    "outputId": "59401908-515c-4894-9f51-8c997d612877",
    "papermill": {
     "duration": 0.064777,
     "end_time": "2021-07-24T17:13:43.753632",
     "exception": false,
     "start_time": "2021-07-24T17:13:43.688855",
     "status": "completed"
    },
    "tags": []
   },
   "outputs": [
    {
     "name": "stderr",
     "output_type": "stream",
     "text": [
      "<string>:6: VisibleDeprecationWarning: Creating an ndarray from ragged nested sequences (which is a list-or-tuple of lists-or-tuples-or ndarrays with different lengths or shapes) is deprecated. If you meant to do this, you must specify 'dtype=object' when creating the ndarray\n"
     ]
    }
   ],
   "source": [
    "combined_data = np.concatenate((class0_array, class1_array))\n"
   ]
  },
  {
   "cell_type": "code",
   "execution_count": null,
   "id": "national-checkout",
   "metadata": {
    "execution": {
     "iopub.execute_input": "2021-07-24T17:13:43.839597Z",
     "iopub.status.busy": "2021-07-24T17:13:43.838669Z",
     "iopub.status.idle": "2021-07-24T17:13:43.844866Z",
     "shell.execute_reply": "2021-07-24T17:13:43.845432Z",
     "shell.execute_reply.started": "2021-07-07T08:35:09.952827Z"
    },
    "id": "national-checkout",
    "outputId": "f51a2d64-4f85-409b-cb20-d58bb8e555b4",
    "papermill": {
     "duration": 0.052192,
     "end_time": "2021-07-24T17:13:43.845618",
     "exception": false,
     "start_time": "2021-07-24T17:13:43.793426",
     "status": "completed"
    },
    "tags": []
   },
   "outputs": [
    {
     "data": {
      "text/plain": [
       "array([array([[[214, 197, 223],\n",
       "        [214, 197, 223],\n",
       "        [214, 198, 224],\n",
       "        ...,\n",
       "        [205, 190, 237],\n",
       "        [205, 191, 237],\n",
       "        [205, 191, 237]],\n",
       "\n",
       "       [[214, 197, 223],\n",
       "        [214, 197, 223],\n",
       "        [214, 198, 223],\n",
       "        ...,\n",
       "        [205, 190, 237],\n",
       "        [205, 191, 237],\n",
       "        [205, 191, 237]],\n",
       "\n",
       "       [[214, 197, 223],\n",
       "        [214, 197, 223],\n",
       "        [214, 198, 224],\n",
       "        ...,\n",
       "        [205, 190, 237],\n",
       "        [205, 191, 237],\n",
       "        [205, 191, 237]],\n",
       "\n",
       "       ...,\n",
       "\n",
       "       [[193, 169, 221],\n",
       "        [193, 169, 221],\n",
       "        [192, 168, 219],\n",
       "        ...,\n",
       "        [201, 183, 201],\n",
       "        [201, 183, 200],\n",
       "        [201, 183, 200]],\n",
       "\n",
       "       [[192, 168, 221],\n",
       "        [192, 168, 221],\n",
       "        [191, 166, 219],\n",
       "        ...,\n",
       "        [201, 184, 201],\n",
       "        [201, 184, 200],\n",
       "        [201, 184, 200]],\n",
       "\n",
       "       [[192, 168, 221],\n",
       "        [192, 168, 221],\n",
       "        [191, 166, 219],\n",
       "        ...,\n",
       "        [201, 184, 201],\n",
       "        [201, 184, 200],\n",
       "        [201, 184, 200]]], dtype=uint8),\n",
       "       0], dtype=object)"
      ]
     },
     "execution_count": 15,
     "metadata": {},
     "output_type": "execute_result"
    }
   ],
   "source": [
    "combined_data[0]"
   ]
  },
  {
   "cell_type": "code",
   "execution_count": null,
   "id": "beautiful-accreditation",
   "metadata": {
    "execution": {
     "iopub.execute_input": "2021-07-24T17:13:43.949747Z",
     "iopub.status.busy": "2021-07-24T17:13:43.948852Z",
     "iopub.status.idle": "2021-07-24T17:13:43.953825Z",
     "shell.execute_reply": "2021-07-24T17:13:43.953143Z",
     "shell.execute_reply.started": "2021-07-07T08:35:09.964729Z"
    },
    "id": "beautiful-accreditation",
    "papermill": {
     "duration": 0.066591,
     "end_time": "2021-07-24T17:13:43.954034",
     "exception": false,
     "start_time": "2021-07-24T17:13:43.887443",
     "status": "completed"
    },
    "tags": []
   },
   "outputs": [],
   "source": [
    "X = []\n",
    "y = []\n",
    "\n",
    "for features,label in combined_data:\n",
    "    X.append(features)\n",
    "    y.append(label)"
   ]
  },
  {
   "cell_type": "code",
   "execution_count": null,
   "id": "twelve-rental",
   "metadata": {
    "execution": {
     "iopub.execute_input": "2021-07-24T17:13:44.038665Z",
     "iopub.status.busy": "2021-07-24T17:13:44.037940Z",
     "iopub.status.idle": "2021-07-24T17:13:44.584427Z",
     "shell.execute_reply": "2021-07-24T17:13:44.585046Z",
     "shell.execute_reply.started": "2021-07-07T08:35:09.975651Z"
    },
    "id": "twelve-rental",
    "papermill": {
     "duration": 0.591157,
     "end_time": "2021-07-24T17:13:44.585249",
     "exception": false,
     "start_time": "2021-07-24T17:13:43.994092",
     "status": "completed"
    },
    "tags": []
   },
   "outputs": [],
   "source": [
    "X = np.array(X).reshape(-1, 224,224,3)"
   ]
  },
  {
   "cell_type": "code",
   "execution_count": null,
   "id": "outside-internet",
   "metadata": {
    "execution": {
     "iopub.execute_input": "2021-07-24T17:13:44.672474Z",
     "iopub.status.busy": "2021-07-24T17:13:44.671741Z",
     "iopub.status.idle": "2021-07-24T17:13:44.679520Z",
     "shell.execute_reply": "2021-07-24T17:13:44.678882Z",
     "shell.execute_reply.started": "2021-07-07T08:35:10.070652Z"
    },
    "id": "outside-internet",
    "outputId": "16daf43b-43be-43ca-b487-722cfebdd321",
    "papermill": {
     "duration": 0.052492,
     "end_time": "2021-07-24T17:13:44.679654",
     "exception": false,
     "start_time": "2021-07-24T17:13:44.627162",
     "status": "completed"
    },
    "tags": []
   },
   "outputs": [
    {
     "data": {
      "text/plain": [
       "(9368, 224, 224, 3)"
      ]
     },
     "execution_count": 18,
     "metadata": {},
     "output_type": "execute_result"
    }
   ],
   "source": [
    "X.shape"
   ]
  },
  {
   "cell_type": "code",
   "execution_count": null,
   "id": "disciplinary-lending",
   "metadata": {
    "execution": {
     "iopub.execute_input": "2021-07-24T17:13:44.765857Z",
     "iopub.status.busy": "2021-07-24T17:13:44.765246Z",
     "iopub.status.idle": "2021-07-24T17:13:50.622315Z",
     "shell.execute_reply": "2021-07-24T17:13:50.623064Z",
     "shell.execute_reply.started": "2021-07-07T08:35:10.080979Z"
    },
    "id": "disciplinary-lending",
    "papermill": {
     "duration": 5.902764,
     "end_time": "2021-07-24T17:13:50.623338",
     "exception": false,
     "start_time": "2021-07-24T17:13:44.720574",
     "status": "completed"
    },
    "tags": []
   },
   "outputs": [],
   "source": [
    "import tensorflow as tf\n",
    "from tensorflow import keras"
   ]
  },
  {
   "cell_type": "code",
   "execution_count": null,
   "id": "revised-suffering",
   "metadata": {
    "execution": {
     "iopub.execute_input": "2021-07-24T17:13:50.771450Z",
     "iopub.status.busy": "2021-07-24T17:13:50.770379Z",
     "iopub.status.idle": "2021-07-24T17:13:52.091765Z",
     "shell.execute_reply": "2021-07-24T17:13:52.092635Z",
     "shell.execute_reply.started": "2021-07-07T08:35:10.08835Z"
    },
    "id": "revised-suffering",
    "outputId": "4b9d41a6-4ad3-4faa-d242-8d878c834e5d",
    "papermill": {
     "duration": 1.40189,
     "end_time": "2021-07-24T17:13:52.092947",
     "exception": false,
     "start_time": "2021-07-24T17:13:50.691057",
     "status": "completed"
    },
    "tags": []
   },
   "outputs": [
    {
     "name": "stdout",
     "output_type": "stream",
     "text": [
      "(7026, 224, 224, 3) (2342, 224, 224, 3) (7026, 2) (2342, 2)\n"
     ]
    }
   ],
   "source": [
    "from sklearn.model_selection import train_test_split\n",
    "from keras.utils.np_utils import to_categorical\n",
    "\n",
    "X_train, X_test, y_train, y_test = train_test_split(X, y, test_size=0.25, random_state=42)\n",
    "y_train = to_categorical(y_train)\n",
    "y_test = to_categorical(y_test)\n",
    "print(X_train.shape, X_test.shape, y_train.shape, y_test.shape)"
   ]
  },
  {
   "cell_type": "code",
   "execution_count": null,
   "id": "automated-retrieval",
   "metadata": {
    "execution": {
     "iopub.execute_input": "2021-07-24T17:13:52.180507Z",
     "iopub.status.busy": "2021-07-24T17:13:52.179672Z",
     "iopub.status.idle": "2021-07-24T17:13:53.456299Z",
     "shell.execute_reply": "2021-07-24T17:13:53.455608Z",
     "shell.execute_reply.started": "2021-07-07T08:35:10.18481Z"
    },
    "id": "automated-retrieval",
    "papermill": {
     "duration": 1.32211,
     "end_time": "2021-07-24T17:13:53.456456",
     "exception": false,
     "start_time": "2021-07-24T17:13:52.134346",
     "status": "completed"
    },
    "tags": []
   },
   "outputs": [],
   "source": [
    "from keras.layers import Dense, Conv2D, MaxPooling2D, AvgPool2D, Input, Dropout, Flatten, BatchNormalization\n",
    "from keras.models import Sequential, Model\n",
    "from keras.optimizers import Adam\n",
    "from keras.callbacks import ModelCheckpoint, ReduceLROnPlateau, EarlyStopping\n",
    "from keras.preprocessing.image import ImageDataGenerator\n",
    "from keras.applications.vgg19 import VGG19\n",
    "\n",
    "#Image Transformation Libraries\n",
    "import cv2\n",
    "from imgaug import augmenters as iaa"
   ]
  },
  {
   "cell_type": "code",
   "execution_count": null,
   "id": "thirty-category",
   "metadata": {
    "execution": {
     "iopub.execute_input": "2021-07-24T17:13:53.543302Z",
     "iopub.status.busy": "2021-07-24T17:13:53.542605Z",
     "iopub.status.idle": "2021-07-24T17:13:53.547544Z",
     "shell.execute_reply": "2021-07-24T17:13:53.547041Z",
     "shell.execute_reply.started": "2021-07-07T08:35:10.194725Z"
    },
    "id": "thirty-category",
    "papermill": {
     "duration": 0.049356,
     "end_time": "2021-07-24T17:13:53.547674",
     "exception": false,
     "start_time": "2021-07-24T17:13:53.498318",
     "status": "completed"
    },
    "tags": []
   },
   "outputs": [],
   "source": [
    "#base_learning_rate = 1e-5\n",
    "#batch_size=32\n",
    "#epochs = 10"
   ]
  },
  {
   "cell_type": "code",
   "execution_count": null,
   "id": "conditional-trainer",
   "metadata": {
    "execution": {
     "iopub.execute_input": "2021-07-24T17:13:53.635605Z",
     "iopub.status.busy": "2021-07-24T17:13:53.634430Z",
     "iopub.status.idle": "2021-07-24T17:13:53.638214Z",
     "shell.execute_reply": "2021-07-24T17:13:53.637574Z",
     "shell.execute_reply.started": "2021-07-07T08:35:10.202367Z"
    },
    "id": "conditional-trainer",
    "papermill": {
     "duration": 0.049979,
     "end_time": "2021-07-24T17:13:53.638349",
     "exception": false,
     "start_time": "2021-07-24T17:13:53.588370",
     "status": "completed"
    },
    "tags": []
   },
   "outputs": [],
   "source": [
    "#tpu = tf.distribute.cluster_resolver.TPUClusterResolver.connect()\n",
    "\n",
    "# instantiate a distribution strategy\n",
    "#tpu_strategy = tf.distribute.experimental.TPUStrategy(tpu)\n"
   ]
  },
  {
   "cell_type": "code",
   "execution_count": null,
   "id": "danish-asset",
   "metadata": {
    "execution": {
     "iopub.execute_input": "2021-07-24T17:13:53.746098Z",
     "iopub.status.busy": "2021-07-24T17:13:53.744018Z",
     "iopub.status.idle": "2021-07-24T17:13:53.747051Z",
     "shell.execute_reply": "2021-07-24T17:13:53.747584Z",
     "shell.execute_reply.started": "2021-07-07T08:35:10.211227Z"
    },
    "id": "danish-asset",
    "papermill": {
     "duration": 0.068734,
     "end_time": "2021-07-24T17:13:53.747729",
     "exception": false,
     "start_time": "2021-07-24T17:13:53.678995",
     "status": "completed"
    },
    "tags": []
   },
   "outputs": [],
   "source": [
    "def create_model():\n",
    "    img_input = keras.layers.Input(shape=(224, 224, 3))\n",
    "\n",
    "    # Block 1\n",
    "    x = Conv2D(filters=64, kernel_size=(3, 3), padding='same', activation='relu', name='block1_conv1', trainable=False)(img_input)\n",
    "    x = Conv2D(filters=64, kernel_size=(3, 3), padding='same', activation='relu', name='block1_conv2', trainable=False)(x)\n",
    "    x = MaxPooling2D(pool_size=(2,2), strides=(2,2), padding='valid', name='block1_pool', trainable=False)(x)\n",
    "\n",
    "    #Block 2\n",
    "    x = Conv2D(filters=128, kernel_size=(3,3), padding='same', activation='relu', name='block2_conv1',trainable=False)(x)\n",
    "    x = Conv2D(filters=128, kernel_size=(3,3), padding='same', activation='relu', name='block2_conv2', trainable=False)(x)\n",
    "    x = MaxPooling2D(pool_size=(2,2), strides=(2,2), padding='valid', name='block2_pool', trainable=False)(x)\n",
    "\n",
    "    #Block 3\n",
    "    x = Conv2D(filters=256, kernel_size=(3,3), padding='same', activation='relu', name='block3_conv1',trainable=False)(x)\n",
    "    x = Conv2D(filters=256, kernel_size=(3,3), padding='same', activation='relu', name='block3_conv2', trainable=False)(x)\n",
    "    x = Conv2D(filters=256, kernel_size=(3,3), padding='same', activation='relu', name='block3_conv3', trainable=False)(x)\n",
    "    x = Conv2D(filters=256, kernel_size=(3,3), padding='same', activation='relu', name='block3_conv4', trainable=False)(x)\n",
    "    x = MaxPooling2D(pool_size=(2,2), strides=(2,2), padding='valid', name='block3_pool', trainable=False)(x)\n",
    "\n",
    "    #Block 4\n",
    "    x = Conv2D(filters=512, kernel_size=(3,3), padding='same', activation='relu', name='block4_conv1')(x)\n",
    "    x = BatchNormalization(name='block4_bn1')(x)\n",
    "    x = Conv2D(filters=512, kernel_size=(3,3), padding='same', activation='relu', name='block4_conv2')(x)\n",
    "    x = BatchNormalization(name='block4_bn2')(x)\n",
    "    x = Conv2D(filters=512, kernel_size=(3,3), padding='same', activation='relu', name='block4_conv3')(x)\n",
    "    x = BatchNormalization(name='block4_bn3')(x)\n",
    "    x = Conv2D(filters=512, kernel_size=(3,3), padding='same', activation='relu', name='block4_conv4')(x)\n",
    "    x = MaxPooling2D(pool_size=(2,2), strides=(2,2), padding='valid', name='block4_pool')(x)\n",
    "\n",
    "    #Block 5\n",
    "    x = Conv2D(filters=512, kernel_size=(3,3), padding='same', activation='relu', name='block5_conv1')(x)\n",
    "    x = BatchNormalization(name='block5_bn1')(x)\n",
    "    x = Conv2D(filters=512, kernel_size=(3,3), padding='same', activation='relu', name='block5_conv2')(x)\n",
    "    x = BatchNormalization(name='block5_bn2')(x)\n",
    "    x = Conv2D(filters=512, kernel_size=(3,3), padding='same', activation='relu', name='block5_conv3')(x)\n",
    "    x = BatchNormalization(name='block5_bn3')(x)\n",
    "    x = Conv2D(filters=512, kernel_size=(3,3), padding='same', activation='relu', name='block5_conv4')(x)\n",
    "    x = MaxPooling2D(pool_size=(2,2), strides=(2,2), padding='valid', name='block5_pool')(x)\n",
    "    \n",
    "    #Other layers\n",
    "    x = Flatten(name='flatten')(x)\n",
    "    x = Dense(4096, activation='relu', name='fc1')(x)\n",
    "    x = Dropout(0.7, name='dropout_1')(x)\n",
    "    x = Dense(1000, activation='relu', name='fc2')(x)\n",
    "    x = Dropout(0.7, name='dropout_2')(x)\n",
    "    x = Dense(512, activation='relu', name='fc3')(x)\n",
    "    x = Dropout(0.5, name='dropout_3')(x)\n",
    "    x = Dense(2, activation='sigmoid', name='predictions')(x)\n",
    "    \n",
    "    model = Model(inputs=img_input, outputs=x)\n",
    "    return model"
   ]
  },
  {
   "cell_type": "code",
   "execution_count": null,
   "id": "informal-receptor",
   "metadata": {
    "id": "informal-receptor",
    "papermill": {
     "duration": 0.040053,
     "end_time": "2021-07-24T17:13:53.829501",
     "exception": false,
     "start_time": "2021-07-24T17:13:53.789448",
     "status": "completed"
    },
    "tags": []
   },
   "outputs": [],
   "source": []
  },
  {
   "cell_type": "code",
   "execution_count": null,
   "id": "frank-joint",
   "metadata": {
    "execution": {
     "iopub.execute_input": "2021-07-24T17:13:53.914626Z",
     "iopub.status.busy": "2021-07-24T17:13:53.913797Z",
     "iopub.status.idle": "2021-07-24T17:13:53.917606Z",
     "shell.execute_reply": "2021-07-24T17:13:53.918108Z",
     "shell.execute_reply.started": "2021-07-07T08:35:10.236335Z"
    },
    "id": "frank-joint",
    "papermill": {
     "duration": 0.048641,
     "end_time": "2021-07-24T17:13:53.918276",
     "exception": false,
     "start_time": "2021-07-24T17:13:53.869635",
     "status": "completed"
    },
    "tags": []
   },
   "outputs": [],
   "source": [
    "#base_model = tf.keras.applications.vgg19.VGG19(weights='imagenet', include_top=False)"
   ]
  },
  {
   "cell_type": "code",
   "execution_count": null,
   "id": "ranking-customs",
   "metadata": {
    "execution": {
     "iopub.execute_input": "2021-07-24T17:13:54.002742Z",
     "iopub.status.busy": "2021-07-24T17:13:54.002083Z",
     "iopub.status.idle": "2021-07-24T17:13:54.007127Z",
     "shell.execute_reply": "2021-07-24T17:13:54.006591Z",
     "shell.execute_reply.started": "2021-07-07T08:35:10.248084Z"
    },
    "id": "ranking-customs",
    "papermill": {
     "duration": 0.049099,
     "end_time": "2021-07-24T17:13:54.007261",
     "exception": false,
     "start_time": "2021-07-24T17:13:53.958162",
     "status": "completed"
    },
    "tags": []
   },
   "outputs": [],
   "source": [
    "#base_model.summary()"
   ]
  },
  {
   "cell_type": "code",
   "execution_count": null,
   "id": "pretty-above",
   "metadata": {
    "execution": {
     "iopub.execute_input": "2021-07-24T17:13:54.093234Z",
     "iopub.status.busy": "2021-07-24T17:13:54.092468Z",
     "iopub.status.idle": "2021-07-24T17:13:56.885796Z",
     "shell.execute_reply": "2021-07-24T17:13:56.886682Z",
     "shell.execute_reply.started": "2021-07-07T08:35:10.25519Z"
    },
    "id": "pretty-above",
    "outputId": "84f675d7-c704-42ba-9f28-5f384f244f4e",
    "papermill": {
     "duration": 2.838966,
     "end_time": "2021-07-24T17:13:56.886972",
     "exception": false,
     "start_time": "2021-07-24T17:13:54.048006",
     "status": "completed"
    },
    "tags": []
   },
   "outputs": [
    {
     "name": "stdout",
     "output_type": "stream",
     "text": [
      "Model: \"model\"\n",
      "_________________________________________________________________\n",
      "Layer (type)                 Output Shape              Param #   \n",
      "=================================================================\n",
      "input_1 (InputLayer)         [(None, 224, 224, 3)]     0         \n",
      "_________________________________________________________________\n",
      "block1_conv1 (Conv2D)        (None, 224, 224, 64)      1792      \n",
      "_________________________________________________________________\n",
      "block1_conv2 (Conv2D)        (None, 224, 224, 64)      36928     \n",
      "_________________________________________________________________\n",
      "block1_pool (MaxPooling2D)   (None, 112, 112, 64)      0         \n",
      "_________________________________________________________________\n",
      "block2_conv1 (Conv2D)        (None, 112, 112, 128)     73856     \n",
      "_________________________________________________________________\n",
      "block2_conv2 (Conv2D)        (None, 112, 112, 128)     147584    \n",
      "_________________________________________________________________\n",
      "block2_pool (MaxPooling2D)   (None, 56, 56, 128)       0         \n",
      "_________________________________________________________________\n",
      "block3_conv1 (Conv2D)        (None, 56, 56, 256)       295168    \n",
      "_________________________________________________________________\n",
      "block3_conv2 (Conv2D)        (None, 56, 56, 256)       590080    \n",
      "_________________________________________________________________\n",
      "block3_conv3 (Conv2D)        (None, 56, 56, 256)       590080    \n",
      "_________________________________________________________________\n",
      "block3_conv4 (Conv2D)        (None, 56, 56, 256)       590080    \n",
      "_________________________________________________________________\n",
      "block3_pool (MaxPooling2D)   (None, 28, 28, 256)       0         \n",
      "_________________________________________________________________\n",
      "block4_conv1 (Conv2D)        (None, 28, 28, 512)       1180160   \n",
      "_________________________________________________________________\n",
      "block4_bn1 (BatchNormalizati (None, 28, 28, 512)       2048      \n",
      "_________________________________________________________________\n",
      "block4_conv2 (Conv2D)        (None, 28, 28, 512)       2359808   \n",
      "_________________________________________________________________\n",
      "block4_bn2 (BatchNormalizati (None, 28, 28, 512)       2048      \n",
      "_________________________________________________________________\n",
      "block4_conv3 (Conv2D)        (None, 28, 28, 512)       2359808   \n",
      "_________________________________________________________________\n",
      "block4_bn3 (BatchNormalizati (None, 28, 28, 512)       2048      \n",
      "_________________________________________________________________\n",
      "block4_conv4 (Conv2D)        (None, 28, 28, 512)       2359808   \n",
      "_________________________________________________________________\n",
      "block4_pool (MaxPooling2D)   (None, 14, 14, 512)       0         \n",
      "_________________________________________________________________\n",
      "block5_conv1 (Conv2D)        (None, 14, 14, 512)       2359808   \n",
      "_________________________________________________________________\n",
      "block5_bn1 (BatchNormalizati (None, 14, 14, 512)       2048      \n",
      "_________________________________________________________________\n",
      "block5_conv2 (Conv2D)        (None, 14, 14, 512)       2359808   \n",
      "_________________________________________________________________\n",
      "block5_bn2 (BatchNormalizati (None, 14, 14, 512)       2048      \n",
      "_________________________________________________________________\n",
      "block5_conv3 (Conv2D)        (None, 14, 14, 512)       2359808   \n",
      "_________________________________________________________________\n",
      "block5_bn3 (BatchNormalizati (None, 14, 14, 512)       2048      \n",
      "_________________________________________________________________\n",
      "block5_conv4 (Conv2D)        (None, 14, 14, 512)       2359808   \n",
      "_________________________________________________________________\n",
      "block5_pool (MaxPooling2D)   (None, 7, 7, 512)         0         \n",
      "_________________________________________________________________\n",
      "flatten (Flatten)            (None, 25088)             0         \n",
      "_________________________________________________________________\n",
      "fc1 (Dense)                  (None, 4096)              102764544 \n",
      "_________________________________________________________________\n",
      "dropout_1 (Dropout)          (None, 4096)              0         \n",
      "_________________________________________________________________\n",
      "fc2 (Dense)                  (None, 1000)              4097000   \n",
      "_________________________________________________________________\n",
      "dropout_2 (Dropout)          (None, 1000)              0         \n",
      "_________________________________________________________________\n",
      "fc3 (Dense)                  (None, 512)               512512    \n",
      "_________________________________________________________________\n",
      "dropout_3 (Dropout)          (None, 512)               0         \n",
      "_________________________________________________________________\n",
      "predictions (Dense)          (None, 2)                 1026      \n",
      "=================================================================\n",
      "Total params: 127,411,754\n",
      "Trainable params: 125,080,042\n",
      "Non-trainable params: 2,331,712\n",
      "_________________________________________________________________\n"
     ]
    }
   ],
   "source": [
    "#with tpu_strategy.scope():\n",
    "model = create_model()\n",
    "model.summary()"
   ]
  },
  {
   "cell_type": "code",
   "execution_count": null,
   "id": "coated-station",
   "metadata": {
    "id": "coated-station",
    "papermill": {
     "duration": 0.041021,
     "end_time": "2021-07-24T17:13:56.970645",
     "exception": false,
     "start_time": "2021-07-24T17:13:56.929624",
     "status": "completed"
    },
    "tags": []
   },
   "outputs": [],
   "source": []
  },
  {
   "cell_type": "code",
   "execution_count": null,
   "id": "separated-debate",
   "metadata": {
    "execution": {
     "iopub.execute_input": "2021-07-24T17:13:57.066793Z",
     "iopub.status.busy": "2021-07-24T17:13:57.064751Z",
     "iopub.status.idle": "2021-07-24T17:13:57.073473Z",
     "shell.execute_reply": "2021-07-24T17:13:57.074149Z",
     "shell.execute_reply.started": "2021-07-07T08:35:10.495521Z"
    },
    "id": "separated-debate",
    "papermill": {
     "duration": 0.062908,
     "end_time": "2021-07-24T17:13:57.074309",
     "exception": false,
     "start_time": "2021-07-24T17:13:57.011401",
     "status": "completed"
    },
    "tags": []
   },
   "outputs": [],
   "source": [
    "model.compile(\n",
    "    optimizer=tf.optimizers.Adam(lr=0.00001),\n",
    "    loss='binary_crossentropy',\n",
    "    metrics=['accuracy','Recall','Precision']\n",
    ")"
   ]
  },
  {
   "cell_type": "code",
   "execution_count": null,
   "id": "duplicate-colors",
   "metadata": {
    "execution": {
     "iopub.execute_input": "2021-07-24T17:13:57.168284Z",
     "iopub.status.busy": "2021-07-24T17:13:57.165498Z",
     "iopub.status.idle": "2021-07-24T17:13:57.192471Z",
     "shell.execute_reply": "2021-07-24T17:13:57.191969Z",
     "shell.execute_reply.started": "2021-07-07T08:35:10.514902Z"
    },
    "id": "duplicate-colors",
    "outputId": "721793d9-97e3-4465-b4b6-8943425d0fb9",
    "papermill": {
     "duration": 0.077086,
     "end_time": "2021-07-24T17:13:57.192657",
     "exception": false,
     "start_time": "2021-07-24T17:13:57.115571",
     "status": "completed"
    },
    "tags": []
   },
   "outputs": [
    {
     "name": "stdout",
     "output_type": "stream",
     "text": [
      "Model: \"model\"\n",
      "_________________________________________________________________\n",
      "Layer (type)                 Output Shape              Param #   \n",
      "=================================================================\n",
      "input_1 (InputLayer)         [(None, 224, 224, 3)]     0         \n",
      "_________________________________________________________________\n",
      "block1_conv1 (Conv2D)        (None, 224, 224, 64)      1792      \n",
      "_________________________________________________________________\n",
      "block1_conv2 (Conv2D)        (None, 224, 224, 64)      36928     \n",
      "_________________________________________________________________\n",
      "block1_pool (MaxPooling2D)   (None, 112, 112, 64)      0         \n",
      "_________________________________________________________________\n",
      "block2_conv1 (Conv2D)        (None, 112, 112, 128)     73856     \n",
      "_________________________________________________________________\n",
      "block2_conv2 (Conv2D)        (None, 112, 112, 128)     147584    \n",
      "_________________________________________________________________\n",
      "block2_pool (MaxPooling2D)   (None, 56, 56, 128)       0         \n",
      "_________________________________________________________________\n",
      "block3_conv1 (Conv2D)        (None, 56, 56, 256)       295168    \n",
      "_________________________________________________________________\n",
      "block3_conv2 (Conv2D)        (None, 56, 56, 256)       590080    \n",
      "_________________________________________________________________\n",
      "block3_conv3 (Conv2D)        (None, 56, 56, 256)       590080    \n",
      "_________________________________________________________________\n",
      "block3_conv4 (Conv2D)        (None, 56, 56, 256)       590080    \n",
      "_________________________________________________________________\n",
      "block3_pool (MaxPooling2D)   (None, 28, 28, 256)       0         \n",
      "_________________________________________________________________\n",
      "block4_conv1 (Conv2D)        (None, 28, 28, 512)       1180160   \n",
      "_________________________________________________________________\n",
      "block4_bn1 (BatchNormalizati (None, 28, 28, 512)       2048      \n",
      "_________________________________________________________________\n",
      "block4_conv2 (Conv2D)        (None, 28, 28, 512)       2359808   \n",
      "_________________________________________________________________\n",
      "block4_bn2 (BatchNormalizati (None, 28, 28, 512)       2048      \n",
      "_________________________________________________________________\n",
      "block4_conv3 (Conv2D)        (None, 28, 28, 512)       2359808   \n",
      "_________________________________________________________________\n",
      "block4_bn3 (BatchNormalizati (None, 28, 28, 512)       2048      \n",
      "_________________________________________________________________\n",
      "block4_conv4 (Conv2D)        (None, 28, 28, 512)       2359808   \n",
      "_________________________________________________________________\n",
      "block4_pool (MaxPooling2D)   (None, 14, 14, 512)       0         \n",
      "_________________________________________________________________\n",
      "block5_conv1 (Conv2D)        (None, 14, 14, 512)       2359808   \n",
      "_________________________________________________________________\n",
      "block5_bn1 (BatchNormalizati (None, 14, 14, 512)       2048      \n",
      "_________________________________________________________________\n",
      "block5_conv2 (Conv2D)        (None, 14, 14, 512)       2359808   \n",
      "_________________________________________________________________\n",
      "block5_bn2 (BatchNormalizati (None, 14, 14, 512)       2048      \n",
      "_________________________________________________________________\n",
      "block5_conv3 (Conv2D)        (None, 14, 14, 512)       2359808   \n",
      "_________________________________________________________________\n",
      "block5_bn3 (BatchNormalizati (None, 14, 14, 512)       2048      \n",
      "_________________________________________________________________\n",
      "block5_conv4 (Conv2D)        (None, 14, 14, 512)       2359808   \n",
      "_________________________________________________________________\n",
      "block5_pool (MaxPooling2D)   (None, 7, 7, 512)         0         \n",
      "_________________________________________________________________\n",
      "flatten (Flatten)            (None, 25088)             0         \n",
      "_________________________________________________________________\n",
      "fc1 (Dense)                  (None, 4096)              102764544 \n",
      "_________________________________________________________________\n",
      "dropout_1 (Dropout)          (None, 4096)              0         \n",
      "_________________________________________________________________\n",
      "fc2 (Dense)                  (None, 1000)              4097000   \n",
      "_________________________________________________________________\n",
      "dropout_2 (Dropout)          (None, 1000)              0         \n",
      "_________________________________________________________________\n",
      "fc3 (Dense)                  (None, 512)               512512    \n",
      "_________________________________________________________________\n",
      "dropout_3 (Dropout)          (None, 512)               0         \n",
      "_________________________________________________________________\n",
      "predictions (Dense)          (None, 2)                 1026      \n",
      "=================================================================\n",
      "Total params: 127,411,754\n",
      "Trainable params: 125,080,042\n",
      "Non-trainable params: 2,331,712\n",
      "_________________________________________________________________\n"
     ]
    }
   ],
   "source": [
    "model.summary()"
   ]
  },
  {
   "cell_type": "code",
   "execution_count": null,
   "id": "federal-second",
   "metadata": {
    "execution": {
     "iopub.execute_input": "2021-07-24T17:13:57.283057Z",
     "iopub.status.busy": "2021-07-24T17:13:57.282299Z",
     "iopub.status.idle": "2021-07-24T20:49:48.384389Z",
     "shell.execute_reply": "2021-07-24T20:49:48.385280Z"
    },
    "id": "federal-second",
    "outputId": "981bbccb-59ec-4852-bcc1-3aae2b08bc4a",
    "papermill": {
     "duration": 12951.150864,
     "end_time": "2021-07-24T20:49:48.385597",
     "exception": false,
     "start_time": "2021-07-24T17:13:57.234733",
     "status": "completed"
    },
    "tags": []
   },
   "outputs": [
    {
     "name": "stdout",
     "output_type": "stream",
     "text": [
      "Epoch 1/10\n",
      "220/220 [==============================] - 1329s 6s/step - loss: 1.3857 - accuracy: 0.5879 - recall: 0.5427 - precision: 0.5788 - val_loss: 0.5500 - val_accuracy: 0.7938 - val_recall: 0.8360 - val_precision: 0.7739\n",
      "Epoch 2/10\n",
      "220/220 [==============================] - 1291s 6s/step - loss: 0.7385 - accuracy: 0.7398 - recall: 0.7053 - precision: 0.7085 - val_loss: 0.4299 - val_accuracy: 0.8202 - val_recall: 0.8395 - val_precision: 0.8084\n",
      "Epoch 3/10\n",
      "220/220 [==============================] - 1291s 6s/step - loss: 0.5725 - accuracy: 0.7852 - recall: 0.7542 - precision: 0.7529 - val_loss: 0.4018 - val_accuracy: 0.8360 - val_recall: 0.8488 - val_precision: 0.8246\n",
      "Epoch 4/10\n",
      "220/220 [==============================] - 1291s 6s/step - loss: 0.5074 - accuracy: 0.8000 - recall: 0.7771 - precision: 0.7701 - val_loss: 0.4052 - val_accuracy: 0.8318 - val_recall: 0.8429 - val_precision: 0.8215\n",
      "Epoch 5/10\n",
      "220/220 [==============================] - 1291s 6s/step - loss: 0.4703 - accuracy: 0.8181 - recall: 0.7951 - precision: 0.7909 - val_loss: 0.3739 - val_accuracy: 0.8407 - val_recall: 0.8570 - val_precision: 0.8328\n",
      "Epoch 6/10\n",
      "220/220 [==============================] - 1291s 6s/step - loss: 0.4295 - accuracy: 0.8316 - recall: 0.8094 - precision: 0.8148 - val_loss: 0.3638 - val_accuracy: 0.8399 - val_recall: 0.8433 - val_precision: 0.8369\n",
      "Epoch 7/10\n",
      "220/220 [==============================] - 1291s 6s/step - loss: 0.4211 - accuracy: 0.8255 - recall: 0.8025 - precision: 0.8060 - val_loss: 0.3557 - val_accuracy: 0.8493 - val_recall: 0.8548 - val_precision: 0.8437\n",
      "Epoch 8/10\n",
      "220/220 [==============================] - 1291s 6s/step - loss: 0.4134 - accuracy: 0.8393 - recall: 0.8154 - precision: 0.8259 - val_loss: 0.3418 - val_accuracy: 0.8488 - val_recall: 0.8535 - val_precision: 0.8424\n",
      "Epoch 9/10\n",
      "220/220 [==============================] - 1291s 6s/step - loss: 0.4073 - accuracy: 0.8326 - recall: 0.8187 - precision: 0.8167 - val_loss: 0.3956 - val_accuracy: 0.8049 - val_recall: 0.8121 - val_precision: 0.8022\n",
      "Epoch 10/10\n",
      "220/220 [==============================] - 1291s 6s/step - loss: 0.4089 - accuracy: 0.8293 - recall: 0.8086 - precision: 0.8192 - val_loss: 0.3506 - val_accuracy: 0.8386 - val_recall: 0.8467 - val_precision: 0.8346\n"
     ]
    }
   ],
   "source": [
    "history=model.fit(X_train,y_train, validation_data=(X_test, y_test),epochs=10)"
   ]
  },
  {
   "cell_type": "code",
   "execution_count": null,
   "id": "whole-routine",
   "metadata": {
    "execution": {
     "iopub.execute_input": "2021-07-24T20:49:50.098287Z",
     "iopub.status.busy": "2021-07-24T20:49:50.097051Z",
     "iopub.status.idle": "2021-07-24T20:55:09.974841Z",
     "shell.execute_reply": "2021-07-24T20:55:09.974282Z"
    },
    "id": "whole-routine",
    "outputId": "b0c6789c-3339-4bcd-84d8-74adb1512645",
    "papermill": {
     "duration": 320.625324,
     "end_time": "2021-07-24T20:55:09.975017",
     "exception": false,
     "start_time": "2021-07-24T20:49:49.349693",
     "status": "completed"
    },
    "tags": []
   },
   "outputs": [
    {
     "name": "stdout",
     "output_type": "stream",
     "text": [
      "74/74 [==============================] - 320s 4s/step - loss: 0.3506 - accuracy: 0.8386 - recall: 0.8467 - precision: 0.8346\n"
     ]
    }
   ],
   "source": [
    "e=model.evaluate(X_test,y_test)"
   ]
  },
  {
   "cell_type": "code",
   "execution_count": null,
   "id": "multiple-success",
   "metadata": {
    "execution": {
     "iopub.execute_input": "2021-07-24T20:55:11.589620Z",
     "iopub.status.busy": "2021-07-24T20:55:11.588475Z",
     "iopub.status.idle": "2021-07-24T21:00:31.238470Z",
     "shell.execute_reply": "2021-07-24T21:00:31.237487Z"
    },
    "id": "multiple-success",
    "papermill": {
     "duration": 320.465133,
     "end_time": "2021-07-24T21:00:31.238633",
     "exception": false,
     "start_time": "2021-07-24T20:55:10.773500",
     "status": "completed"
    },
    "tags": []
   },
   "outputs": [],
   "source": [
    "y_pred=model.predict(X_test)"
   ]
  },
  {
   "cell_type": "code",
   "execution_count": null,
   "id": "iraqi-scanner",
   "metadata": {
    "execution": {
     "iopub.execute_input": "2021-07-24T21:00:32.833975Z",
     "iopub.status.busy": "2021-07-24T21:00:32.832054Z",
     "iopub.status.idle": "2021-07-24T21:00:32.835182Z",
     "shell.execute_reply": "2021-07-24T21:00:32.835663Z"
    },
    "id": "iraqi-scanner",
    "papermill": {
     "duration": 0.799055,
     "end_time": "2021-07-24T21:00:32.835827",
     "exception": false,
     "start_time": "2021-07-24T21:00:32.036772",
     "status": "completed"
    },
    "tags": []
   },
   "outputs": [],
   "source": [
    "import matplotlib.pyplot as plt"
   ]
  },
  {
   "cell_type": "code",
   "execution_count": null,
   "id": "finished-operation",
   "metadata": {
    "execution": {
     "iopub.execute_input": "2021-07-24T21:00:34.436259Z",
     "iopub.status.busy": "2021-07-24T21:00:34.434678Z",
     "iopub.status.idle": "2021-07-24T21:00:34.630128Z",
     "shell.execute_reply": "2021-07-24T21:00:34.629532Z"
    },
    "id": "finished-operation",
    "outputId": "41935f3d-00f3-4334-bbca-69a26399db6c",
    "papermill": {
     "duration": 1.004206,
     "end_time": "2021-07-24T21:00:34.630257",
     "exception": false,
     "start_time": "2021-07-24T21:00:33.626051",
     "status": "completed"
    },
    "tags": []
   },
   "outputs": [
    {
     "data": {
      "image/png": "[encoded data removed]",
      "text/plain": [
       "<Figure size 432x288 with 1 Axes>"
      ]
     },
     "metadata": {
      "needs_background": "light"
     },
     "output_type": "display_data"
    }
   ],
   "source": [
    "#plotting the Accuracy of test and training sets\n",
    "plt.plot(history.history['accuracy'])\n",
    "plt.plot(history.history['val_accuracy'])\n",
    "plt.title('Model Accuracy')\n",
    "plt.ylabel('accuracy')\n",
    "plt.xlabel('epoch')\n",
    "plt.legend(['train', 'test'], loc='upper left')\n",
    "plt.show()"
   ]
  },
  {
   "cell_type": "code",
   "execution_count": null,
   "id": "wired-chosen",
   "metadata": {
    "execution": {
     "iopub.execute_input": "2021-07-24T21:00:36.232984Z",
     "iopub.status.busy": "2021-07-24T21:00:36.219576Z",
     "iopub.status.idle": "2021-07-24T21:00:36.382683Z",
     "shell.execute_reply": "2021-07-24T21:00:36.381869Z"
    },
    "id": "wired-chosen",
    "outputId": "336a9ba0-0f7a-4f70-ab35-03c063d0e9f1",
    "papermill": {
     "duration": 0.978558,
     "end_time": "2021-07-24T21:00:36.382962",
     "exception": false,
     "start_time": "2021-07-24T21:00:35.404404",
     "status": "completed"
    },
    "tags": []
   },
   "outputs": [
    {
     "data": {
      "image/png": "[encoded data removed]",
      "text/plain": [
       "<Figure size 432x288 with 1 Axes>"
      ]
     },
     "metadata": {
      "needs_background": "light"
     },
     "output_type": "display_data"
    }
   ],
   "source": [
    "#plotting the loss of test and training sets\n",
    "plt.plot(history.history['loss'])\n",
    "plt.plot(history.history['val_loss'])\n",
    "plt.title('Model Loss')\n",
    "plt.ylabel('loss')\n",
    "plt.xlabel('epoch')\n",
    "plt.legend(['train', 'test'], loc='upper left')\n",
    "plt.show()"
   ]
  },
  {
   "cell_type": "code",
   "execution_count": null,
   "id": "fallen-packaging",
   "metadata": {
    "execution": {
     "iopub.execute_input": "2021-07-24T21:00:38.358566Z",
     "iopub.status.busy": "2021-07-24T21:00:38.355944Z",
     "iopub.status.idle": "2021-07-24T21:00:42.476320Z",
     "shell.execute_reply": "2021-07-24T21:00:42.475249Z"
    },
    "id": "fallen-packaging",
    "papermill": {
     "duration": 5.289597,
     "end_time": "2021-07-24T21:00:42.476489",
     "exception": false,
     "start_time": "2021-07-24T21:00:37.186892",
     "status": "completed"
    },
    "tags": []
   },
   "outputs": [],
   "source": [
    "model.save('vgg19.h5')"
   ]
  },
  {
   "cell_type": "code",
   "execution_count": null,
   "id": "banner-jenny",
   "metadata": {
    "execution": {
     "iopub.execute_input": "2021-07-24T21:00:47.146219Z",
     "iopub.status.busy": "2021-07-24T21:00:47.144136Z",
     "iopub.status.idle": "2021-07-24T21:00:47.147004Z",
     "shell.execute_reply": "2021-07-24T21:00:47.147478Z"
    },
    "id": "banner-jenny",
    "papermill": {
     "duration": 0.988999,
     "end_time": "2021-07-24T21:00:47.147620",
     "exception": false,
     "start_time": "2021-07-24T21:00:46.158621",
     "status": "completed"
    },
    "tags": []
   },
   "outputs": [],
   "source": [
    "Y_pred=[]\n",
    "for i in y_pred:\n",
    "    if i[0]>i[1]:\n",
    "        Y_pred.append(0)\n",
    "    else:\n",
    "        Y_pred.append(1)"
   ]
  },
  {
   "cell_type": "code",
   "execution_count": null,
   "id": "bottom-riverside",
   "metadata": {
    "execution": {
     "iopub.execute_input": "2021-07-24T21:00:49.106577Z",
     "iopub.status.busy": "2021-07-24T21:00:49.105779Z",
     "iopub.status.idle": "2021-07-24T21:00:49.110421Z",
     "shell.execute_reply": "2021-07-24T21:00:49.109831Z"
    },
    "id": "bottom-riverside",
    "papermill": {
     "duration": 1.189401,
     "end_time": "2021-07-24T21:00:49.110542",
     "exception": false,
     "start_time": "2021-07-24T21:00:47.921141",
     "status": "completed"
    },
    "tags": []
   },
   "outputs": [],
   "source": [
    "Y_test=[]\n",
    "for i in y_test:\n",
    "    if i[0]>i[1]:\n",
    "        Y_test.append(0)\n",
    "    else:\n",
    "        Y_test.append(1)"
   ]
  },
  {
   "cell_type": "code",
   "execution_count": null,
   "id": "outdoor-charity",
   "metadata": {
    "execution": {
     "iopub.execute_input": "2021-07-24T21:00:50.688561Z",
     "iopub.status.busy": "2021-07-24T21:00:50.686817Z",
     "iopub.status.idle": "2021-07-24T21:00:50.711495Z",
     "shell.execute_reply": "2021-07-24T21:00:50.710975Z"
    },
    "id": "outdoor-charity",
    "outputId": "84dea831-861b-472d-d8f3-9f4f08b6a08e",
    "papermill": {
     "duration": 0.830673,
     "end_time": "2021-07-24T21:00:50.711649",
     "exception": false,
     "start_time": "2021-07-24T21:00:49.880976",
     "status": "completed"
    },
    "tags": []
   },
   "outputs": [
    {
     "name": "stdout",
     "output_type": "stream",
     "text": [
      "Confusion Matrix\n",
      "[[999 190]\n",
      " [188 965]]\n",
      "Classification Report\n",
      "              precision    recall  f1-score   support\n",
      "\n",
      "    Negative       0.84      0.84      0.84      1189\n",
      "    Positive       0.84      0.84      0.84      1153\n",
      "\n",
      "    accuracy                           0.84      2342\n",
      "   macro avg       0.84      0.84      0.84      2342\n",
      "weighted avg       0.84      0.84      0.84      2342\n",
      "\n"
     ]
    }
   ],
   "source": [
    "from sklearn.metrics import classification_report, confusion_matrix\n",
    "print('Confusion Matrix')\n",
    "print(confusion_matrix(Y_test, Y_pred))\n",
    "print('Classification Report')\n",
    "print(classification_report(Y_test, Y_pred, target_names=['Negative','Positive']))"
   ]
  },
  {
   "cell_type": "code",
   "execution_count": null,
   "id": "extensive-blink",
   "metadata": {
    "id": "extensive-blink",
    "papermill": {
     "duration": 0.754101,
     "end_time": "2021-07-24T21:00:52.244409",
     "exception": false,
     "start_time": "2021-07-24T21:00:51.490308",
     "status": "completed"
    },
    "tags": []
   },
   "outputs": [],
   "source": []
  }
 ],
 "metadata": {
  "colab": {
   "provenance": []
  },
  "kernelspec": {
   "display_name": "Python 3",
   "language": "python",
   "name": "python3"
  },
  "language_info": {
   "codemirror_mode": {
    "name": "ipython",
    "version": 3
   },
   "file_extension": ".py",
   "mimetype": "text/x-python",
   "name": "python",
   "nbconvert_exporter": "python",
   "pygments_lexer": "ipython3",
   "version": "3.8.8"
  },
  "papermill": {
   "default_parameters": {},
   "duration": 13712.171024,
   "end_time": "2021-07-24T21:00:55.879094",
   "environment_variables": {},
   "exception": null,
   "input_path": "__notebook__.ipynb",
   "output_path": "__notebook__.ipynb",
   "parameters": {},
   "start_time": "2021-07-24T17:12:23.708070",
   "version": "2.3.3"
  }
 },
 "nbformat": 4,
 "nbformat_minor": 5
}
